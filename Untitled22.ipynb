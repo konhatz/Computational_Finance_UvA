{
 "cells": [
  {
   "cell_type": "code",
   "execution_count": 1,
   "id": "3e7dcfdc",
   "metadata": {},
   "outputs": [],
   "source": [
    "import numpy as np\n",
    "import pandas as pd\n",
    "from matplotlib import pyplot as plt\n",
    "from scipy.stats import norm"
   ]
  },
  {
   "cell_type": "code",
   "execution_count": 2,
   "id": "50915be9",
   "metadata": {},
   "outputs": [],
   "source": [
    "#matrix representation\n",
    "def buildTree(S ,vol , T, N):\n",
    "    dt = T / N\n",
    "    matrix = np.zeros((N + 1 , N + 1))\n",
    "    u = np.exp(vol*np.sqrt(dt))\n",
    "    d = np.exp(-vol*np.sqrt(dt))\n",
    "    #Iterate over the lower triangle\n",
    "    for i in np.arange(N+1): #iterate over rows\n",
    "        for j in np.arange(i+1): #iterate over columns\n",
    "            matrix[i, j] = S*d**(i-j)*u**j\n",
    "    return matrix"
   ]
  },
  {
   "cell_type": "code",
   "execution_count": 3,
   "id": "6d3f23ec",
   "metadata": {},
   "outputs": [],
   "source": [
    "#calculating the option value\n",
    "def valueOptionMatrix(tree, T, r, K, vol, N):\n",
    "    dt = T / N\n",
    "    \n",
    "    u = np.exp(vol*np.sqrt(dt))\n",
    "    d = np.exp(-vol*np.sqrt(dt))\n",
    "    \n",
    "    p = (np.exp(r*dt)-d)/(u - d)\n",
    "    \n",
    "    columns = tree.shape[1]\n",
    "    rows = tree.shape[0]\n",
    "    \n",
    "    # Walk backward , we start in last row of the matrix\n",
    "    # Add the payoff function in the last row\n",
    "    \n",
    "    for c in np.arange(columns):\n",
    "        S = tree[rows - 1 , c] # value in the matrix\n",
    "        tree[rows - 1 , c] = np.max([S - K, 0])\n",
    "\n",
    "    # For all other rows, we need to combine from previous rows\n",
    "    # We walk backwards , from the last row to the first row\n",
    "    for i in np.arange(rows - 1)[::-1]:\n",
    "        for j in np.arange(i + 1):\n",
    "            down = tree[i + 1 , j]\n",
    "            up = tree[i + 1 , j + 1]\n",
    "            tree[i , j] = np.exp(-r*dt)*(p*up + (1-p)*down)\n",
    "    return tree"
   ]
  },
  {
   "cell_type": "code",
   "execution_count": 4,
   "id": "7348a4de",
   "metadata": {},
   "outputs": [],
   "source": [
    "tree = buildTree(100, 0.2, 1, 50)\n",
    "valueoptionmatrix = valueOptionMatrix(tree, 1, 0.06, 99, 0.2, 50)"
   ]
  },
  {
   "cell_type": "code",
   "execution_count": 5,
   "id": "e689071b",
   "metadata": {},
   "outputs": [
    {
     "data": {
      "text/plain": [
       "11.546434850755071"
      ]
     },
     "execution_count": 5,
     "metadata": {},
     "output_type": "execute_result"
    }
   ],
   "source": [
    "#getting the value of the option at time 0\n",
    "valueOption = valueoptionmatrix[0][0]\n",
    "valueOption"
   ]
  },
  {
   "cell_type": "code",
   "execution_count": 6,
   "id": "7317bd02",
   "metadata": {},
   "outputs": [],
   "source": [
    "#Black-Scholes \n",
    "def BlackScholes(S, vol, T, r, K):\n",
    "    d1 = (np.log(S/K) + (r + 0.5*(vol**2))*T)/((vol)*np.sqrt(T))\n",
    "    d2 = d1 - vol*np.sqrt(T)\n",
    "    return S*norm.cdf(d1) - np.exp(-r*T)*K*norm.cdf(d2)"
   ]
  },
  {
   "cell_type": "code",
   "execution_count": 7,
   "id": "a0aed431",
   "metadata": {},
   "outputs": [
    {
     "data": {
      "text/plain": [
       "11.544280227051097"
      ]
     },
     "execution_count": 7,
     "metadata": {},
     "output_type": "execute_result"
    }
   ],
   "source": [
    "#getting the analytical value of the option at time 0\n",
    "Optionvalue = BlackScholes(100, 0.2, 1, 0.06, 99)\n",
    "Optionvalue"
   ]
  },
  {
   "cell_type": "code",
   "execution_count": 11,
   "id": "5fe037ac",
   "metadata": {},
   "outputs": [],
   "source": [
    "analytical_values = [] #list of analytical values\n",
    "approx_values = [] #list of approximate values\n",
    "vols = np.linspace(0.01, 10, 1000) #list of volatilies we are going to test on\n",
    "\n",
    "for vol in vols:\n",
    "    tree = buildTree(100, vol, 1, 50)\n",
    "    valueoptionmatrix = valueOptionMatrix(tree, 1, 0.06, 99, vol, 50)\n",
    "    \n",
    "    approx_values.append(valueoptionmatrix[0][0])\n",
    "    analytical_values.append(BlackScholes(100, vol, 1, 0.06, 99))"
   ]
  },
  {
   "cell_type": "code",
   "execution_count": 12,
   "id": "b61d28a5",
   "metadata": {},
   "outputs": [
    {
     "data": {
      "text/plain": [
       "<matplotlib.legend.Legend at 0x2adff8ccdc0>"
      ]
     },
     "execution_count": 12,
     "metadata": {},
     "output_type": "execute_result"
    },
    {
     "data": {
      "image/png": "[encoded data removed]",
      "text/plain": [
       "<Figure size 432x288 with 1 Axes>"
      ]
     },
     "metadata": {
      "needs_background": "light"
     },
     "output_type": "display_data"
    }
   ],
   "source": [
    "#plot of approximate and analytical values for different values of volatility\n",
    "plt.plot(vols, analytical_values, label = \"Theoretical formula\", alpha = 0.5)\n",
    "plt.plot(vols, approx_values, label = \"Approximate value\", alpha = 0.5)\n",
    "plt.legend()"
   ]
  },
  {
   "cell_type": "code",
   "execution_count": 16,
   "id": "c3d74125",
   "metadata": {},
   "outputs": [
    {
     "data": {
      "text/plain": [
       "[<matplotlib.lines.Line2D at 0x2ad80fb2bb0>]"
      ]
     },
     "execution_count": 16,
     "metadata": {},
     "output_type": "execute_result"
    },
    {
     "data": {
      "image/png": "[encoded data removed]",
      "text/plain": [
       "<Figure size 432x288 with 1 Axes>"
      ]
     },
     "metadata": {
      "needs_background": "light"
     },
     "output_type": "display_data"
    }
   ],
   "source": [
    "#error values for different values of volatility\n",
    "plt.plot(vols, np.array(approx_values) - np.array(analytical_values), label = \"Error\")"
   ]
  },
  {
   "cell_type": "code",
   "execution_count": 19,
   "id": "de457495",
   "metadata": {},
   "outputs": [],
   "source": [
    "error_values = [] #error values\n",
    "analytical_value = BlackScholes(100, 0.2, 1, 0.06, 99) #analytical value\n",
    "\n",
    "for N in range(1, 101): #trying out different values of N\n",
    "    tree = buildTree(100, 0.2, 1, N)\n",
    "    valueoptionmatrix = valueOptionMatrix(tree, 1, 0.06, 99, 0.2, N)\n",
    "    error_values.append(valueoptionmatrix[0][0] - analytical_value)"
   ]
  },
  {
   "cell_type": "code",
   "execution_count": 21,
   "id": "0a82ec4c",
   "metadata": {},
   "outputs": [
    {
     "data": {
      "text/plain": [
       "[<matplotlib.lines.Line2D at 0x2ad80859190>]"
      ]
     },
     "execution_count": 21,
     "metadata": {},
     "output_type": "execute_result"
    },
    {
     "data": {
      "image/png": "[encoded data removed]",
      "text/plain": [
       "<Figure size 576x288 with 1 Axes>"
      ]
     },
     "metadata": {
      "needs_background": "light"
     },
     "output_type": "display_data"
    }
   ],
   "source": [
    "#error plot\n",
    "plt.figure(figsize=(8,4))\n",
    "plt.plot(error_values)"
   ]
  },
  {
   "cell_type": "code",
   "execution_count": 22,
   "id": "10790016",
   "metadata": {},
   "outputs": [
    {
     "data": {
      "text/plain": [
       "[<matplotlib.lines.Line2D at 0x2ad80addf10>]"
      ]
     },
     "execution_count": 22,
     "metadata": {},
     "output_type": "execute_result"
    },
    {
     "data": {
      "image/png": "[encoded data removed]",
      "text/plain": [
       "<Figure size 576x288 with 1 Axes>"
      ]
     },
     "metadata": {
      "needs_background": "light"
     },
     "output_type": "display_data"
    }
   ],
   "source": [
    "#absolute error plot\n",
    "plt.figure(figsize=(8,4))\n",
    "plt.plot(np.abs(error_values))"
   ]
  },
  {
   "cell_type": "code",
   "execution_count": 23,
   "id": "bf1f6aad",
   "metadata": {},
   "outputs": [],
   "source": [
    "S = 100\n",
    "K = 99\n",
    "r = 0.06\n",
    "T = 1\n",
    "N = 50\n",
    "vol = 0.2\n",
    "\n",
    "dt = T/N\n",
    "\n",
    "u = np.exp(vol*np.sqrt(dt))\n",
    "d = np.exp(-vol*np.sqrt(dt))\n",
    "\n",
    "tree = buildTree(100, 0.2, 1, 50)\n",
    "valueoptionmatrix = valueOptionMatrix(tree, 1, 0.06, 99, 0.2, 50)\n",
    "\n",
    "#approximate delta value\n",
    "delta_value = (valueoptionmatrix[1][1] - valueoptionmatrix[1][0])/(S*u - S*d)\n",
    "\n",
    "#theoretical delta value\n",
    "d1 = (np.log(S/K) + (r + 0.5*(vol**2))*T)/((vol)*np.sqrt(T))\n",
    "theoretical_delta_value = norm.cdf(d1)"
   ]
  },
  {
   "cell_type": "code",
   "execution_count": 25,
   "id": "9192b9aa",
   "metadata": {},
   "outputs": [
    {
     "name": "stdout",
     "output_type": "stream",
     "text": [
      "0.6725569646047751 0.6737355117348961\n"
     ]
    }
   ],
   "source": [
    "print(delta_value, theoretical_delta_value)"
   ]
  },
  {
   "cell_type": "code",
   "execution_count": 26,
   "id": "52e8239a",
   "metadata": {},
   "outputs": [],
   "source": [
    "vols = np.linspace(0.01, 10, 50)\n",
    "delta_values = [] #list of approximate delta values\n",
    "theoretical_delta_values = [] #list of theoretical delta values\n",
    "\n",
    "for vol in vols: #experimenting for different values of volatility\n",
    "    u = np.exp(vol*np.sqrt(dt))\n",
    "    d = np.exp(-vol*np.sqrt(dt))\n",
    "\n",
    "    tree = buildTree(100, vol, 1, 50)\n",
    "    valueoptionmatrix = valueOptionMatrix(tree, 1, 0.06, 99, vol, 50)\n",
    "\n",
    "    delta_values.append((valueoptionmatrix[1][1] - valueoptionmatrix[1][0])/(S*u - S*d))\n",
    "    d1 = (np.log(S/K) + (r + 0.5*(vol**2))*T)/((vol)*np.sqrt(T))\n",
    "    theoretical_delta_values.append(norm.cdf(d1))"
   ]
  },
  {
   "cell_type": "code",
   "execution_count": 27,
   "id": "88fb5707",
   "metadata": {},
   "outputs": [
    {
     "data": {
      "text/plain": [
       "<matplotlib.legend.Legend at 0x2ad812e4670>"
      ]
     },
     "execution_count": 27,
     "metadata": {},
     "output_type": "execute_result"
    },
    {
     "data": {
      "image/png": "[encoded data removed]",
      "text/plain": [
       "<Figure size 432x288 with 1 Axes>"
      ]
     },
     "metadata": {
      "needs_background": "light"
     },
     "output_type": "display_data"
    }
   ],
   "source": [
    "#plot of approximate and analytical values of delta for different volatility values\n",
    "plt.plot(vols, delta_values, label = \"Binomial model delta\")\n",
    "plt.plot(vols, theoretical_delta_values, label = \"Black Scholes model delta\")\n",
    "plt.legend()"
   ]
  },
  {
   "cell_type": "code",
   "execution_count": 53,
   "id": "53752bf7",
   "metadata": {},
   "outputs": [],
   "source": [
    "#calculating the american option value\n",
    "def valueAmericanOptionMatrix(tree, T, r, K, vol, N, type_): #new input variable type - either 'call' or 'put'\n",
    "    dt = T / N\n",
    "    \n",
    "    u = np.exp(vol*np.sqrt(dt))\n",
    "    d = np.exp(-vol*np.sqrt(dt))\n",
    "    \n",
    "    p = (np.exp(r*dt)-d)/(u - d)\n",
    "    \n",
    "    columns = tree.shape[1]\n",
    "    rows = tree.shape[0]\n",
    "    \n",
    "    # Walk backward , we start in last row of the matrix\n",
    "    # Add the payoff function in the last row\n",
    "    \n",
    "    for c in np.arange(columns):\n",
    "        S = tree[rows - 1 , c] # value in the matrix\n",
    "        if type_ == 'call':\n",
    "            tree[rows - 1 , c] = np.max([S - K, 0])\n",
    "        if type_ == 'put':\n",
    "            tree[rows - 1 , c] = np.max([K - S, 0])\n",
    "\n",
    "    # For all other rows, we need to combine from previous rows\n",
    "    # We walk backwards , from the last row to the first row\n",
    "    for i in np.arange(rows - 1)[::-1]:\n",
    "        for j in np.arange(i + 1):\n",
    "            down = tree[i + 1 , j]\n",
    "            up = tree[i + 1 , j + 1]\n",
    "            if type_ == 'call':\n",
    "                tree[i , j] = np.max([np.max([tree[i , j] - K, 0]),np.exp(-r*dt)*(p*up + (1-p)*down)]) #exercise now if the expected payoff in the future is lower\n",
    "            if type_ == 'put':\n",
    "                tree[i , j] = np.max([np.max([K - tree[i , j], 0]),np.exp(-r*dt)*(p*up + (1-p)*down)])   \n",
    "    return tree"
   ]
  },
  {
   "cell_type": "code",
   "execution_count": 54,
   "id": "99662e1f",
   "metadata": {},
   "outputs": [
    {
     "data": {
      "text/plain": [
       "11.546434850755071"
      ]
     },
     "execution_count": 54,
     "metadata": {},
     "output_type": "execute_result"
    }
   ],
   "source": [
    "tree = buildTree(100, 0.2, 1, 50)\n",
    "valueAmericanOptionMatrix(tree, 1, 0.06, 99, 0.2, 50, \"call\")[0][0] #call value"
   ]
  },
  {
   "cell_type": "code",
   "execution_count": 57,
   "id": "c5afdf88",
   "metadata": {},
   "outputs": [
    {
     "data": {
      "text/plain": [
       "5.347763498417651"
      ]
     },
     "execution_count": 57,
     "metadata": {},
     "output_type": "execute_result"
    }
   ],
   "source": [
    "tree = buildTree(100, 0.2, 1, 50)\n",
    "valueAmericanOptionMatrix(tree, 1, 0.06, 99, 0.2, 50, \"put\")[0][0] #put value"
   ]
  },
  {
   "cell_type": "code",
   "execution_count": 68,
   "id": "612b7218",
   "metadata": {},
   "outputs": [],
   "source": [
    "vols = np.linspace(0.1, 10, 50)\n",
    "american_call_values = [] #list of american call values\n",
    "american_put_values = [] #list of american put values\n",
    "\n",
    "for vol in vols: #experimenting for different values of volatility\n",
    "    tree = buildTree(100, vol, 1, 50)\n",
    "    american_call_values.append(valueAmericanOptionMatrix(tree, 1, 0.06, 99, vol, 50, \"call\")[0][0])\n",
    "    tree = buildTree(100, vol, 1, 50)\n",
    "    american_put_values.append(valueAmericanOptionMatrix(tree, 1, 0.06, 99, vol, 50, \"put\")[0][0])"
   ]
  },
  {
   "cell_type": "code",
   "execution_count": 69,
   "id": "a270c808",
   "metadata": {},
   "outputs": [
    {
     "data": {
      "text/plain": [
       "<matplotlib.legend.Legend at 0x2ad81caeca0>"
      ]
     },
     "execution_count": 69,
     "metadata": {},
     "output_type": "execute_result"
    },
    {
     "data": {
      "image/png": "[encoded data removed]",
      "text/plain": [
       "<Figure size 432x288 with 1 Axes>"
      ]
     },
     "metadata": {
      "needs_background": "light"
     },
     "output_type": "display_data"
    }
   ],
   "source": [
    "#plot american call values\n",
    "plt.plot(vols, american_call_values, label = 'American call value')\n",
    "plt.plot(vols, american_put_values, label = 'American put value')\n",
    "plt.legend()"
   ]
  }
 ],
 "metadata": {
  "kernelspec": {
   "display_name": "Python 3",
   "language": "python",
   "name": "python3"
  },
  "language_info": {
   "codemirror_mode": {
    "name": "ipython",
    "version": 3
   },
   "file_extension": ".py",
   "mimetype": "text/x-python",
   "name": "python",
   "nbconvert_exporter": "python",
   "pygments_lexer": "ipython3",
   "version": "3.8.8"
  }
 },
 "nbformat": 4,
 "nbformat_minor": 5
}
